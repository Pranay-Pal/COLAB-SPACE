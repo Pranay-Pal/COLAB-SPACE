{
  "nbformat": 4,
  "nbformat_minor": 0,
  "metadata": {
    "colab": {
      "provenance": [],
      "toc_visible": true,
      "authorship_tag": "ABX9TyPPo5+7I4Oje4DhbrXncGEI",
      "include_colab_link": true
    },
    "kernelspec": {
      "name": "python3",
      "display_name": "Python 3"
    },
    "language_info": {
      "name": "python"
    }
  },
  "cells": [
    {
      "cell_type": "markdown",
      "metadata": {
        "id": "view-in-github",
        "colab_type": "text"
      },
      "source": [
        "<a href=\"https://colab.research.google.com/github/Pranay-Pal/COLAB-SPACE/blob/main/WORKSPACE.ipynb\" target=\"_parent\"><img src=\"https://colab.research.google.com/assets/colab-badge.svg\" alt=\"Open In Colab\"/></a>"
      ]
    },
    {
      "cell_type": "markdown",
      "source": [
        "# Machine learning\n"
      ],
      "metadata": {
        "id": "BCL6hlJ57WYo"
      }
    },
    {
      "cell_type": "markdown",
      "source": [
        "# Deep learning"
      ],
      "metadata": {
        "id": "rM4lMvgA7ezi"
      }
    },
    {
      "cell_type": "markdown",
      "source": [
        "# Data Science"
      ],
      "metadata": {
        "id": "EWdOjaPs7tSy"
      }
    },
    {
      "cell_type": "markdown",
      "source": [
        "# NLP"
      ],
      "metadata": {
        "id": "1X933vTS8el0"
      }
    },
    {
      "cell_type": "markdown",
      "source": [
        "# IMAGE PROCESSING"
      ],
      "metadata": {
        "id": "YQg23Rnl8mQ9"
      }
    },
    {
      "cell_type": "markdown",
      "source": [
        "# Python"
      ],
      "metadata": {
        "id": "enCQ4z6-5Z2R"
      }
    },
    {
      "cell_type": "markdown",
      "source": [
        "# Python OOPs"
      ],
      "metadata": {
        "id": "f4V0iyX28Rib"
      }
    },
    {
      "cell_type": "markdown",
      "source": [
        "# Python Multi-threading"
      ],
      "metadata": {
        "id": "asAHH8S876Hz"
      }
    },
    {
      "cell_type": "markdown",
      "source": [
        "# Numpy"
      ],
      "metadata": {
        "id": "JClWRmQ_5pQm"
      }
    },
    {
      "cell_type": "markdown",
      "source": [
        "# Pandas"
      ],
      "metadata": {
        "id": "-HoDioSL50vx"
      }
    },
    {
      "cell_type": "markdown",
      "source": [
        "# Matplotlib"
      ],
      "metadata": {
        "id": "yfn2kYF_556e"
      }
    },
    {
      "cell_type": "markdown",
      "source": [
        "# Seaborn"
      ],
      "metadata": {
        "id": "qQate7jt5_eC"
      }
    },
    {
      "cell_type": "markdown",
      "source": [
        "# Django"
      ],
      "metadata": {
        "id": "xEw5viss6FVs"
      }
    },
    {
      "cell_type": "markdown",
      "source": [
        "# Scikit Learn"
      ],
      "metadata": {
        "id": "FeaT7N065RWB"
      }
    },
    {
      "cell_type": "markdown",
      "source": [
        "# OpenCV"
      ],
      "metadata": {
        "id": "rhyGsBdE6lT5"
      }
    },
    {
      "cell_type": "markdown",
      "source": [
        "# Keras"
      ],
      "metadata": {
        "id": "gs19Ax6B6uhp"
      }
    },
    {
      "cell_type": "markdown",
      "source": [
        "# Tensorflow"
      ],
      "metadata": {
        "id": "kXQt1EQY5g5u"
      }
    },
    {
      "cell_type": "markdown",
      "source": [
        "# Pytorch"
      ],
      "metadata": {
        "id": "O9DdJcUs5JZh"
      }
    }
  ]
}